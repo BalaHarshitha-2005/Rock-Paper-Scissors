{
 "cells": [
  {
   "cell_type": "code",
   "execution_count": 1,
   "id": "65a86f09-d210-42b3-909d-cf6a3a01492a",
   "metadata": {},
   "outputs": [
    {
     "name": "stdin",
     "output_type": "stream",
     "text": [
      "Rock, Paper, Scissors or Quit:  Scissors\n"
     ]
    },
    {
     "name": "stdout",
     "output_type": "stream",
     "text": [
      "Computer chose: Paper\n",
      "You won\n",
      "Current Score -> You: 1, Computer: 0\n"
     ]
    },
    {
     "name": "stdin",
     "output_type": "stream",
     "text": [
      "Do you want to continue? (1 for Yes / 2 for No):  1\n",
      "Rock, Paper, Scissors or Quit:  Rock\n"
     ]
    },
    {
     "name": "stdout",
     "output_type": "stream",
     "text": [
      "Computer chose: Paper\n",
      "Computer won\n",
      "Current Score -> You: 1, Computer: 1\n"
     ]
    },
    {
     "name": "stdin",
     "output_type": "stream",
     "text": [
      "Do you want to continue? (1 for Yes / 2 for No):  1\n",
      "Rock, Paper, Scissors or Quit:  Paper\n"
     ]
    },
    {
     "name": "stdout",
     "output_type": "stream",
     "text": [
      "Computer chose: Rock\n",
      "You won\n",
      "Current Score -> You: 2, Computer: 1\n"
     ]
    },
    {
     "name": "stdin",
     "output_type": "stream",
     "text": [
      "Do you want to continue? (1 for Yes / 2 for No):  2\n"
     ]
    },
    {
     "name": "stdout",
     "output_type": "stream",
     "text": [
      "Thanks for playing!\n",
      "Final Score -> You: 2, Computer: 1\n"
     ]
    }
   ],
   "source": [
    "import random\n",
    "\n",
    "user_score = 0\n",
    "computer_score = 0\n",
    "play = [\"Rock\", \"Paper\", \"Scissors\"]\n",
    "\n",
    "while True:\n",
    "    user_choice = input(\"Rock, Paper, Scissors or Quit: \").title()\n",
    "\n",
    "    if user_choice == \"Quit\":\n",
    "        print(\"The game is over\")\n",
    "        print(f\"Final Score -> You: {user_score}, Computer: {computer_score}\")\n",
    "        break\n",
    "\n",
    "    if user_choice not in play:\n",
    "        print(\"Invalid input. Please choose Rock, Paper, or Scissors.\")\n",
    "        continue\n",
    "\n",
    "    computer_choice = random.choice(play)\n",
    "    print(f\"Computer chose: {computer_choice}\")\n",
    "\n",
    "    if user_choice == computer_choice:\n",
    "        print(\"It's a Tie!\")\n",
    "    elif (user_choice == \"Rock\" and computer_choice == \"Paper\"):\n",
    "        print(\"Computer won\")\n",
    "        computer_score += 1\n",
    "    elif (user_choice == \"Rock\" and computer_choice == \"Scissors\"):\n",
    "        print(\"You won\")\n",
    "        user_score += 1\n",
    "    elif (user_choice == \"Paper\" and computer_choice == \"Rock\"):\n",
    "        print(\"You won\")\n",
    "        user_score += 1\n",
    "    elif (user_choice == \"Paper\" and computer_choice == \"Scissors\"):\n",
    "        print(\"Computer won\")\n",
    "        computer_score += 1\n",
    "    elif (user_choice == \"Scissors\" and computer_choice == \"Rock\"):\n",
    "        print(\"Computer won\")\n",
    "        computer_score += 1\n",
    "    elif (user_choice == \"Scissors\" and computer_choice == \"Paper\"):\n",
    "        print(\"You won\")\n",
    "        user_score += 1\n",
    "\n",
    "    print(f\"Current Score -> You: {user_score}, Computer: {computer_score}\")\n",
    "\n",
    "    continue_choice = input(\"Do you want to continue? (1 for Yes / 2 for No): \")\n",
    "    if continue_choice != \"1\":\n",
    "        print(\"Thanks for playing!\")\n",
    "        print(f\"Final Score -> You: {user_score}, Computer: {computer_score}\")\n",
    "        break\n"
   ]
  },
  {
   "cell_type": "code",
   "execution_count": null,
   "id": "b74d076f-3bdd-44ad-857b-2b99ddc6e482",
   "metadata": {},
   "outputs": [],
   "source": []
  }
 ],
 "metadata": {
  "kernelspec": {
   "display_name": "Python 3 (ipykernel)",
   "language": "python",
   "name": "python3"
  },
  "language_info": {
   "codemirror_mode": {
    "name": "ipython",
    "version": 3
   },
   "file_extension": ".py",
   "mimetype": "text/x-python",
   "name": "python",
   "nbconvert_exporter": "python",
   "pygments_lexer": "ipython3",
   "version": "3.9.18"
  }
 },
 "nbformat": 4,
 "nbformat_minor": 5
}
